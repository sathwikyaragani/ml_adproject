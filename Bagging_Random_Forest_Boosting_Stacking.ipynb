{
  "nbformat": 4,
  "nbformat_minor": 0,
  "metadata": {
    "colab": {
      "provenance": [],
      "authorship_tag": "ABX9TyPFyRZeqMhPMWWFUmsnnKmi",
      "include_colab_link": true
    },
    "kernelspec": {
      "name": "python3",
      "display_name": "Python 3"
    },
    "language_info": {
      "name": "python"
    }
  },
  "cells": [
    {
      "cell_type": "markdown",
      "metadata": {
        "id": "view-in-github",
        "colab_type": "text"
      },
      "source": [
        "<a href=\"https://colab.research.google.com/github/sathwikyaragani/ml_adproject/blob/main/Bagging_Random_Forest_Boosting_Stacking.ipynb\" target=\"_parent\"><img src=\"https://colab.research.google.com/assets/colab-badge.svg\" alt=\"Open In Colab\"/></a>"
      ]
    },
    {
      "cell_type": "code",
      "execution_count": 6,
      "metadata": {
        "id": "b2Hj4CHUQqtn"
      },
      "outputs": [],
      "source": [
        "import pandas as pd\n",
        "from sklearn.model_selection import KFold\n",
        "from sklearn.model_selection import cross_val_score\n",
        "from sklearn.ensemble import BaggingClassifier\n",
        "from sklearn.tree import DecisionTreeClassifier\n",
        "\n"
      ]
    },
    {
      "cell_type": "code",
      "source": [
        "filename = r'/content/pima-indians-diabetes.data.csv'\n",
        "names = ['preg', 'plas', 'pres', 'skin', 'test', 'mass', 'pedi', 'age', 'class']\n",
        "dataframe = pd.read_csv(filename, names=names) # Use 'pd.read_csv' to call the function\n",
        "array = dataframe.values\n",
        "X = array[:,0:8]\n",
        "Y = array[:,8]\n",
        "print(dataframe)\n",
        "seed = 7\n",
        "kfold = KFold(n_splits=10, random_state=seed, shuffle=True) # Use 'KFold' (capital 'K')\n",
        "cart = DecisionTreeClassifier()\n",
        "num_trees = 100\n",
        "model = BaggingClassifier(estimator=cart, n_estimators=num_trees, random_state=seed)\n",
        "results = cross_val_score(model, X, Y, cv=kfold)\n",
        "print(results.mean())"
      ],
      "metadata": {
        "id": "WORbobQdRl-G",
        "colab": {
          "base_uri": "https://localhost:8080/"
        },
        "outputId": "e163f53f-ae2b-4c34-c9de-5955ea41ea30"
      },
      "execution_count": 9,
      "outputs": [
        {
          "output_type": "stream",
          "name": "stdout",
          "text": [
            "     preg  plas  pres  skin  test  mass   pedi  age  class\n",
            "0       6   148    72    35     0  33.6  0.627   50      1\n",
            "1       1    85    66    29     0  26.6  0.351   31      0\n",
            "2       8   183    64     0     0  23.3  0.672   32      1\n",
            "3       1    89    66    23    94  28.1  0.167   21      0\n",
            "4       0   137    40    35   168  43.1  2.288   33      1\n",
            "..    ...   ...   ...   ...   ...   ...    ...  ...    ...\n",
            "763    10   101    76    48   180  32.9  0.171   63      0\n",
            "764     2   122    70    27     0  36.8  0.340   27      0\n",
            "765     5   121    72    23   112  26.2  0.245   30      0\n",
            "766     1   126    60     0     0  30.1  0.349   47      1\n",
            "767     1    93    70    31     0  30.4  0.315   23      0\n",
            "\n",
            "[768 rows x 9 columns]\n",
            "0.7578263841421736\n"
          ]
        }
      ]
    }
  ]
}